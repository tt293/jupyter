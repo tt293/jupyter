{
 "cells": [
  {
   "cell_type": "markdown",
   "metadata": {},
   "source": [
    "# Turtle runs - RL with the smoothed Crossentropy Method"
   ]
  },
  {
   "cell_type": "code",
   "execution_count": 1,
   "metadata": {},
   "outputs": [],
   "source": [
    "import sys\n",
    "import numpy as np\n",
    "from collections import namedtuple"
   ]
  },
  {
   "cell_type": "code",
   "execution_count": 2,
   "metadata": {},
   "outputs": [],
   "source": [
    "actions = ['N', 'E', 'S', 'W', 'O']"
   ]
  },
  {
   "cell_type": "code",
   "execution_count": 3,
   "metadata": {},
   "outputs": [],
   "source": [
    "class Turtle():\n",
    "    def __init__(self, position, halite):\n",
    "        self.position = position\n",
    "        self.halite = halite"
   ]
  },
  {
   "cell_type": "code",
   "execution_count": 64,
   "metadata": {},
   "outputs": [],
   "source": [
    "class SimpleHalite():\n",
    "    def __init__(self, height, width, start_pos):\n",
    "        self.game_map = np.random.randint(1, 1000, size=(height, width))\n",
    "        self.game_map[start_pos] = 0\n",
    "        self.orig_map = self.game_map.copy()\n",
    "        self.turtle = Turtle(start_pos, 0)\n",
    "        self.turn = 1\n",
    "        self.max_turns = 100\n",
    "        self.halite = 0\n",
    "        self.base = start_pos\n",
    "        self.height = height\n",
    "        self.width = width\n",
    "    \n",
    "    def get_state(self):\n",
    "        return [self.game_map, self.turtle, self.turn], self.halite, self.turn == 100\n",
    "    \n",
    "    def reset(self):\n",
    "        self.game_map = self.orig_map.copy()\n",
    "        self.turtle = Turtle(self.base, 0)\n",
    "        self.turn = 1\n",
    "        self.halite = 0\n",
    "        \n",
    "    def step(self, action):\n",
    "        reward = 0\n",
    "        if action == 'O':\n",
    "            mined_halite = self.game_map[self.turtle.position] // 4\n",
    "            self.game_map[self.turtle.position] -= mined_halite\n",
    "            self.turtle.halite += min(1000, mined_halite)\n",
    "        else:\n",
    "            if action == 'N':\n",
    "                cost_halite = self.game_map[self.turtle.position] // 10\n",
    "                new_pos = tuple([sum(x) for x in zip(self.turtle.position, (0, 1))])\n",
    "            elif action == 'E':\n",
    "                cost_halite = self.game_map[self.turtle.position] // 10\n",
    "                new_pos = tuple([sum(x) for x in zip(self.turtle.position, (1, 0))])\n",
    "            elif action == 'S':\n",
    "                cost_halite = self.game_map[self.turtle.position] // 10\n",
    "                new_pos = tuple([sum(x) for x in zip(self.turtle.position, (0, -1))])\n",
    "            elif action == 'W':\n",
    "                cost_halite = self.game_map[self.turtle.position] // 10\n",
    "                new_pos = tuple([sum(x) for x in zip(self.turtle.position, (-1, 0))])\n",
    "            #print(cost_halite, self.turtle.halite)\n",
    "            if cost_halite <= self.turtle.halite:\n",
    "                #print(\"moving turtle to {}\".format(new_pos))\n",
    "                self.turtle = Turtle(new_pos, self.turtle.halite - cost_halite)\n",
    "            else:\n",
    "                mined_halite = self.game_map[self.turtle.position] // 4\n",
    "                self.game_map[self.turtle.position] -= mined_halite\n",
    "                self.turtle.halite += min(1000, mined_halite)                \n",
    "        self.turtle.position = (self.turtle.position[0] % self.width, \n",
    "                                self.turtle.position[1] % self.height)\n",
    "        if self.turtle.position == self.base:\n",
    "            self.halite += self.turtle.halite\n",
    "            reward = self.turtle.halite\n",
    "            self.turtle.halite = 0\n",
    "        self.turn += 1\n",
    "        return [self.game_map, self.turtle, self.turn], self.halite, self.turn == 100"
   ]
  },
  {
   "cell_type": "code",
   "execution_count": 65,
   "metadata": {},
   "outputs": [],
   "source": [
    "def policy(game_map, turtle, turn):\n",
    "    return np.random.choice(actions)"
   ]
  },
  {
   "cell_type": "markdown",
   "metadata": {},
   "source": [
    "Needs to be a tuple rather than a list as start_pos"
   ]
  },
  {
   "cell_type": "code",
   "execution_count": 66,
   "metadata": {},
   "outputs": [],
   "source": [
    "game = SimpleHalite(5, 5, (2, 2))"
   ]
  },
  {
   "cell_type": "code",
   "execution_count": 68,
   "metadata": {},
   "outputs": [
    {
     "name": "stdout",
     "output_type": "stream",
     "text": [
      "18 (3, 4) 99\n",
      "0 (3, 1) 99\n",
      "131 (3, 3) 99\n",
      "754 (2, 1) 99\n",
      "0 (3, 0) 99\n",
      "474 (2, 3) 99\n",
      "276 (2, 2) 99\n",
      "1100 (2, 1) 99\n",
      "258 (0, 0) 99\n",
      "809 (0, 1) 99\n",
      "560 (2, 0) 99\n",
      "0 (0, 4) 99\n",
      "467 (2, 0) 99\n",
      "382 (2, 4) 99\n",
      "425 (2, 4) 99\n",
      "930 (0, 2) 99\n",
      "18 (1, 2) 99\n",
      "222 (0, 1) 99\n",
      "495 (4, 3) 99\n",
      "1299 (4, 4) 99\n",
      "185 (2, 0) 99\n",
      "589 (2, 1) 99\n",
      "798 (2, 3) 99\n",
      "791 (1, 2) 99\n",
      "633 (4, 3) 99\n",
      "689 (2, 3) 99\n",
      "1841 (2, 1) 99\n",
      "416 (0, 3) 99\n",
      "292 (0, 0) 99\n",
      "271 (2, 3) 99\n",
      "0 (4, 4) 99\n",
      "335 (4, 4) 99\n",
      "368 (2, 0) 99\n",
      "821 (0, 2) 99\n",
      "137 (0, 0) 99\n",
      "767 (2, 4) 99\n",
      "399 (3, 1) 99\n",
      "882 (3, 2) 99\n",
      "356 (4, 2) 99\n",
      "426 (1, 2) 99\n",
      "917 (2, 4) 99\n",
      "894 (3, 0) 99\n",
      "609 (4, 4) 99\n",
      "960 (2, 0) 99\n",
      "145 (4, 1) 99\n",
      "729 (3, 2) 99\n",
      "627 (3, 2) 99\n",
      "0 (3, 2) 99\n",
      "80 (0, 2) 99\n",
      "422 (2, 4) 99\n",
      "996 (2, 3) 99\n",
      "258 (4, 3) 99\n",
      "1310 (1, 3) 99\n",
      "544 (4, 3) 99\n",
      "579 (2, 2) 99\n",
      "305 (0, 0) 99\n",
      "212 (3, 4) 99\n",
      "670 (2, 1) 99\n",
      "606 (0, 1) 99\n",
      "506 (0, 1) 99\n",
      "263 (2, 4) 99\n",
      "286 (3, 1) 99\n",
      "538 (4, 0) 99\n",
      "825 (1, 1) 99\n",
      "431 (1, 3) 99\n",
      "623 (0, 3) 99\n",
      "315 (3, 1) 99\n",
      "1088 (0, 4) 99\n",
      "764 (2, 2) 99\n",
      "525 (2, 1) 99\n",
      "804 (4, 1) 99\n",
      "1353 (0, 0) 99\n",
      "1596 (3, 1) 99\n",
      "281 (2, 3) 99\n",
      "470 (4, 2) 99\n",
      "395 (2, 0) 99\n",
      "518 (4, 1) 99\n",
      "1717 (1, 2) 99\n",
      "0 (3, 3) 99\n",
      "259 (4, 0) 99\n",
      "73 (3, 2) 99\n",
      "367 (4, 0) 99\n",
      "748 (0, 4) 99\n",
      "214 (4, 0) 99\n",
      "1065 (0, 2) 99\n",
      "124 (0, 2) 99\n",
      "1110 (2, 2) 99\n",
      "996 (3, 0) 99\n",
      "359 (4, 0) 99\n",
      "113 (1, 4) 99\n",
      "467 (1, 0) 99\n",
      "253 (2, 0) 99\n",
      "1333 (1, 4) 99\n",
      "686 (4, 4) 99\n",
      "653 (0, 4) 99\n",
      "1351 (2, 3) 99\n",
      "239 (2, 3) 99\n",
      "1094 (3, 1) 99\n",
      "129 (0, 1) 99\n",
      "721 (2, 0) 99\n"
     ]
    }
   ],
   "source": [
    "for i in range(100):\n",
    "    game.reset()\n",
    "    turn_count = 0\n",
    "    [game_map, turtle, turn], reward, done = game.get_state()\n",
    "    while not done:\n",
    "        action = policy(game_map, turtle, turn)\n",
    "        #print(action, turtle.position)\n",
    "        turn_count += 1\n",
    "        [game_map, turtle, turn], reward, done = game.step(action)\n",
    "    print(reward, turtle.position, turn_count)"
   ]
  },
  {
   "cell_type": "markdown",
   "metadata": {},
   "source": [
    "We can now simulate the game loop. We now need to \n",
    "- fix the game map (otherwise the state mappong will become too unwieldy)\n",
    "- keep track of state-action pairs (memory intensive, but maybe we can manage)\n",
    "- use state-action pairs from elite runs to update policy\n",
    "- add smoothing"
   ]
  },
  {
   "cell_type": "code",
   "execution_count": null,
   "metadata": {},
   "outputs": [],
   "source": []
  }
 ],
 "metadata": {
  "kernelspec": {
   "display_name": "Python 3",
   "language": "python",
   "name": "python3"
  },
  "language_info": {
   "codemirror_mode": {
    "name": "ipython",
    "version": 3
   },
   "file_extension": ".py",
   "mimetype": "text/x-python",
   "name": "python",
   "nbconvert_exporter": "python",
   "pygments_lexer": "ipython3",
   "version": "3.7.0"
  }
 },
 "nbformat": 4,
 "nbformat_minor": 2
}
