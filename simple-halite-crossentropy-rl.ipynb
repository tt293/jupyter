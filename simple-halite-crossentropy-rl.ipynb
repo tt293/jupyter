{
 "cells": [
  {
   "cell_type": "markdown",
   "metadata": {},
   "source": [
    "# Turtle runs - RL with the smoothed Crossentropy Method"
   ]
  },
  {
   "cell_type": "code",
   "execution_count": 1,
   "metadata": {},
   "outputs": [
    {
     "name": "stderr",
     "output_type": "stream",
     "text": [
      "C:\\Users\\thoma\\Anaconda3\\lib\\site-packages\\ipykernel\\parentpoller.py:116: UserWarning: Parent poll failed.  If the frontend dies,\n",
      "                the kernel may be left running.  Please let us know\n",
      "                about your system (bitness, Python, etc.) at\n",
      "                ipython-dev@scipy.org\n",
      "  ipython-dev@scipy.org\"\"\")\n"
     ]
    }
   ],
   "source": [
    "import sys\n",
    "import numpy as np\n",
    "from collections import namedtuple"
   ]
  },
  {
   "cell_type": "code",
   "execution_count": 2,
   "metadata": {},
   "outputs": [],
   "source": [
    "actions = ['N', 'E', 'S', 'W', 'O']"
   ]
  },
  {
   "cell_type": "code",
   "execution_count": 3,
   "metadata": {},
   "outputs": [],
   "source": [
    "class Turtle():\n",
    "    def __init__(self, position, halite):\n",
    "        self.position = position\n",
    "        self.halite = halite"
   ]
  },
  {
   "cell_type": "code",
   "execution_count": 4,
   "metadata": {},
   "outputs": [],
   "source": [
    "class GameState():\n",
    "    def __init__(self, game_map, position, halite):\n",
    "        self.game_map = game_map\n",
    "        self.position = position\n",
    "        self.halite = halite\n",
    "        \n",
    "    def __eq__(self, other):\n",
    "        return (self.game_map == other.game_map).all() and self.position == other.position and self.halite == other.halite"
   ]
  },
  {
   "cell_type": "code",
   "execution_count": 5,
   "metadata": {},
   "outputs": [],
   "source": [
    "class SimpleHalite():\n",
    "    def __init__(self, height, width, start_pos):\n",
    "        np.random.seed(42)\n",
    "        self.game_map = np.random.randint(1, 1000, size=(height, width))\n",
    "        self.game_map[start_pos] = 0\n",
    "        self.orig_map = self.game_map.copy()\n",
    "        self.turtle = Turtle(start_pos, 0)\n",
    "        self.turn = 1\n",
    "        self.max_turns = 100\n",
    "        self.halite = 0\n",
    "        self.base = start_pos\n",
    "        self.height = height\n",
    "        self.width = width\n",
    "    \n",
    "    def get_state(self):\n",
    "        return GameState(self.game_map, self.turtle.position, self.turtle.halite), self.turn, self.halite, self.turn == 100\n",
    "    \n",
    "    def reset(self):\n",
    "        self.game_map = self.orig_map.copy()\n",
    "        self.turtle = Turtle(self.base, 0)\n",
    "        self.turn = 1\n",
    "        self.halite = 0\n",
    "        \n",
    "    def step(self, action):\n",
    "        reward = 0\n",
    "        if action == 'O':\n",
    "            mined_halite = self.game_map[self.turtle.position] // 4\n",
    "            self.game_map[self.turtle.position] -= mined_halite\n",
    "            self.turtle.halite += min(1000, mined_halite)\n",
    "        else:\n",
    "            if action == 'N':\n",
    "                cost_halite = self.game_map[self.turtle.position] // 10\n",
    "                new_pos = tuple([sum(x) for x in zip(self.turtle.position, (0, 1))])\n",
    "            elif action == 'E':\n",
    "                cost_halite = self.game_map[self.turtle.position] // 10\n",
    "                new_pos = tuple([sum(x) for x in zip(self.turtle.position, (1, 0))])\n",
    "            elif action == 'S':\n",
    "                cost_halite = self.game_map[self.turtle.position] // 10\n",
    "                new_pos = tuple([sum(x) for x in zip(self.turtle.position, (0, -1))])\n",
    "            elif action == 'W':\n",
    "                cost_halite = self.game_map[self.turtle.position] // 10\n",
    "                new_pos = tuple([sum(x) for x in zip(self.turtle.position, (-1, 0))])\n",
    "            #print(cost_halite, self.turtle.halite)\n",
    "            if cost_halite <= self.turtle.halite:\n",
    "                #print(\"moving turtle to {}\".format(new_pos))\n",
    "                self.turtle = Turtle(new_pos, self.turtle.halite - cost_halite)\n",
    "            else:\n",
    "                mined_halite = self.game_map[self.turtle.position] // 4\n",
    "                self.game_map[self.turtle.position] -= mined_halite\n",
    "                self.turtle.halite += min(1000, mined_halite)                \n",
    "        self.turtle.position = (self.turtle.position[0] % self.width, \n",
    "                                self.turtle.position[1] % self.height)\n",
    "        if self.turtle.position == self.base:\n",
    "            self.halite += self.turtle.halite\n",
    "            reward = self.turtle.halite\n",
    "            self.turtle.halite = 0\n",
    "        self.turn += 1\n",
    "        return self.get_state()"
   ]
  },
  {
   "cell_type": "code",
   "execution_count": 6,
   "metadata": {},
   "outputs": [],
   "source": [
    "def policy(game_state, turn, policy_mapping=[]):\n",
    "    for (state, probs) in policy_mapping:\n",
    "        if state == game_state:\n",
    "            return np.random.choice(actions, p=probs)\n",
    "    return np.random.choice(actions)"
   ]
  },
  {
   "cell_type": "markdown",
   "metadata": {},
   "source": [
    "Needs to be a tuple rather than a list as start_pos"
   ]
  },
  {
   "cell_type": "code",
   "execution_count": 7,
   "metadata": {},
   "outputs": [],
   "source": [
    "game = SimpleHalite(5, 5, (2, 2))"
   ]
  },
  {
   "cell_type": "code",
   "execution_count": 8,
   "metadata": {},
   "outputs": [],
   "source": [
    "N = 200\n",
    "M = 40"
   ]
  },
  {
   "cell_type": "code",
   "execution_count": null,
   "metadata": {},
   "outputs": [
    {
     "name": "stdout",
     "output_type": "stream",
     "text": [
      "0 422.235\n"
     ]
    }
   ],
   "source": [
    "policy_mapping = []\n",
    "for j in range(M):\n",
    "    state_action_maps = []\n",
    "    final_rewards = []\n",
    "    for i in range(N):\n",
    "        state_action_map = []\n",
    "        game.reset()\n",
    "        turn_count = 0\n",
    "        game_state, turn, reward, done = game.get_state()\n",
    "        while not done:\n",
    "            action = policy(game_state, turn, policy_mapping)\n",
    "            state_action_map.append((game_state, action))\n",
    "            #print(action, turtle.position)\n",
    "            turn_count += 1\n",
    "            game_state, turn, reward, done = game.step(action)\n",
    "        state_action_maps.append(state_action_map)\n",
    "        # print(reward, turtle.position)\n",
    "        final_rewards.append(reward)\n",
    "    print(j, np.mean(final_rewards))\n",
    "    elite_games = np.argsort(final_rewards)[-(N//10):]\n",
    "    maps_to_keep = np.array(state_action_maps)[elite_games]\n",
    "    full_map = [item for sublist in maps_to_keep for item in sublist]\n",
    "    done_policies = []\n",
    "    policy_states = [x[0] for x in policy_mapping]\n",
    "    for (state, _) in full_map:\n",
    "        if state not in done_policies:\n",
    "            done_policies.append(state)\n",
    "            subset = [a for (s, a) in full_map if s == game_state]\n",
    "            action_probs = []\n",
    "            for action in actions:\n",
    "                action_probs.append((subset.count(action) + 2) / (len(subset) + 2*5))\n",
    "            if state in policy_states:\n",
    "                for ix, policy in enumerate(policy_mapping):\n",
    "                    if policy[0] == state:\n",
    "                        policy_mapping[ix] = (state, alpha * action_probs + (1 - alpha) * policy[1])\n",
    "            else:\n",
    "                policy_mapping.append((state, action_probs))"
   ]
  },
  {
   "cell_type": "code",
   "execution_count": 53,
   "metadata": {},
   "outputs": [],
   "source": [
    "policy_mapping = []\n",
    "for (state, _) in full_map:\n",
    "    if state not in policy_mapping:\n",
    "        subset = [a for (s, a) in full_map if (s[0] == state[0]).all()]\n",
    "        action_probs = []\n",
    "        for action in actions:\n",
    "            action_probs.append((subset.count(action) + 2) / (len(subset) + 2*5))\n",
    "        policy_mapping.append((state, action_probs))"
   ]
  },
  {
   "cell_type": "markdown",
   "metadata": {},
   "source": [
    "We can now simulate the game loop. We now need to \n",
    "- fix the game map (otherwise the state mappong will become too unwieldy) - DONE\n",
    "- keep track of state-action pairs (memory intensive, but maybe we can manage) - DONE\n",
    "- use state-action pairs from elite runs to update policy\n",
    "- add smoothing"
   ]
  },
  {
   "cell_type": "code",
   "execution_count": 23,
   "metadata": {},
   "outputs": [
    {
     "data": {
      "text/plain": [
       "3.3"
      ]
     },
     "execution_count": 23,
     "metadata": {},
     "output_type": "execute_result"
    }
   ],
   "source": [
    "elements = [1.1, 2.2, 3.3]\n",
    "probabilities = [0.2, 0.5, 0.3]\n",
    "np.random.choice(elements, p=probabilities)"
   ]
  },
  {
   "cell_type": "code",
   "execution_count": null,
   "metadata": {},
   "outputs": [],
   "source": []
  }
 ],
 "metadata": {
  "kernelspec": {
   "display_name": "Python 3",
   "language": "python",
   "name": "python3"
  },
  "language_info": {
   "codemirror_mode": {
    "name": "ipython",
    "version": 3
   },
   "file_extension": ".py",
   "mimetype": "text/x-python",
   "name": "python",
   "nbconvert_exporter": "python",
   "pygments_lexer": "ipython3",
   "version": "3.7.0"
  }
 },
 "nbformat": 4,
 "nbformat_minor": 2
}
