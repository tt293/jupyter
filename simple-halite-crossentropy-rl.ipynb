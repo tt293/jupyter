{
 "cells": [
  {
   "cell_type": "markdown",
   "metadata": {},
   "source": [
    "# Turtle runs - RL with the smoothed Crossentropy Method"
   ]
  },
  {
   "cell_type": "code",
   "execution_count": 1,
   "metadata": {},
   "outputs": [],
   "source": [
    "import sys\n",
    "import numpy as np\n",
    "from collections import namedtuple"
   ]
  },
  {
   "cell_type": "code",
   "execution_count": 2,
   "metadata": {},
   "outputs": [],
   "source": [
    "actions = ['N', 'E', 'S', 'W', 'O']"
   ]
  },
  {
   "cell_type": "code",
   "execution_count": 3,
   "metadata": {},
   "outputs": [],
   "source": [
    "class Turtle():\n",
    "    def __init__(self, position, halite):\n",
    "        self.position = position\n",
    "        self.halite = halite"
   ]
  },
  {
   "cell_type": "code",
   "execution_count": 68,
   "metadata": {},
   "outputs": [],
   "source": [
    "class GameState():\n",
    "    def __init__(self, game_map, position, halite):\n",
    "        self.game_map = game_map\n",
    "        self.position = position\n",
    "        self.halite = halite\n",
    "        \n",
    "    def __eq__(self, other):\n",
    "        return (self.game_map == other.game_map).all() and self.position == other.position and self.halite == other.halite\n",
    "\n"
   ]
  },
  {
   "cell_type": "code",
   "execution_count": 85,
   "metadata": {},
   "outputs": [],
   "source": [
    "class SimpleHalite():\n",
    "    def __init__(self, height, width, start_pos):\n",
    "        np.random.seed(42)\n",
    "        self.game_map = np.random.randint(1, 1000, size=(height, width))\n",
    "        self.game_map[start_pos] = 0\n",
    "        self.orig_map = self.game_map.copy()\n",
    "        self.turtle = Turtle(start_pos, 0)\n",
    "        self.turn = 1\n",
    "        self.max_turns = 50\n",
    "        self.halite = 0\n",
    "        self.base = start_pos\n",
    "        self.height = height\n",
    "        self.width = width\n",
    "    \n",
    "    def get_state(self):\n",
    "        game_state = GameState(self.game_map.copy(), self.turtle.position, self.turtle.halite)\n",
    "        return game_state, self.turn, self.halite, self.turn == self.max_turns\n",
    "    \n",
    "    def reset(self):\n",
    "        self.game_map = self.orig_map.copy()\n",
    "        self.turtle = Turtle(self.base, 0)\n",
    "        self.turn = 1\n",
    "        self.halite = 0\n",
    "        \n",
    "    def step(self, action):\n",
    "        reward = 0\n",
    "        if action == 'O':\n",
    "            mined_halite = self.game_map[self.turtle.position] // 4\n",
    "            self.game_map[self.turtle.position] -= mined_halite\n",
    "            self.turtle.halite += min(1000, mined_halite)\n",
    "        else:\n",
    "            if action == 'N':\n",
    "                cost_halite = self.game_map[self.turtle.position] // 10\n",
    "                new_pos = tuple([sum(x) for x in zip(self.turtle.position, (0, 1))])\n",
    "            elif action == 'E':\n",
    "                cost_halite = self.game_map[self.turtle.position] // 10\n",
    "                new_pos = tuple([sum(x) for x in zip(self.turtle.position, (1, 0))])\n",
    "            elif action == 'S':\n",
    "                cost_halite = self.game_map[self.turtle.position] // 10\n",
    "                new_pos = tuple([sum(x) for x in zip(self.turtle.position, (0, -1))])\n",
    "            elif action == 'W':\n",
    "                cost_halite = self.game_map[self.turtle.position] // 10\n",
    "                new_pos = tuple([sum(x) for x in zip(self.turtle.position, (-1, 0))])\n",
    "            #print(cost_halite, self.turtle.halite)\n",
    "            if cost_halite <= self.turtle.halite:\n",
    "                #print(\"moving turtle to {}\".format(new_pos))\n",
    "                self.turtle = Turtle(new_pos, self.turtle.halite - cost_halite)\n",
    "            else:\n",
    "                mined_halite = self.game_map[self.turtle.position] // 4\n",
    "                self.game_map[self.turtle.position] -= mined_halite\n",
    "                self.turtle.halite += min(1000, mined_halite)                \n",
    "        self.turtle.position = (self.turtle.position[0] % self.width, \n",
    "                                self.turtle.position[1] % self.height)\n",
    "        if self.turtle.position == self.base:\n",
    "            self.halite += self.turtle.halite\n",
    "            reward = self.turtle.halite\n",
    "            self.turtle.halite = 0\n",
    "        self.turn += 1\n",
    "        return self.get_state()"
   ]
  },
  {
   "cell_type": "code",
   "execution_count": 86,
   "metadata": {},
   "outputs": [],
   "source": [
    "def policy(game_state, turn, policy_mapping=None):\n",
    "    if policy_mapping is not None:\n",
    "        for (state, probs) in policy_mapping:\n",
    "            if state == game_state:\n",
    "                return np.random.choice(actions, p=probs)\n",
    "    return np.random.choice(actions)"
   ]
  },
  {
   "cell_type": "markdown",
   "metadata": {},
   "source": [
    "Needs to be a tuple rather than a list as start_pos"
   ]
  },
  {
   "cell_type": "code",
   "execution_count": 87,
   "metadata": {},
   "outputs": [],
   "source": [
    "game = SimpleHalite(5, 5, (2, 2))"
   ]
  },
  {
   "cell_type": "code",
   "execution_count": 93,
   "metadata": {},
   "outputs": [],
   "source": [
    "N = 100\n",
    "M = 50\n",
    "alpha = 0.5"
   ]
  },
  {
   "cell_type": "code",
   "execution_count": null,
   "metadata": {},
   "outputs": [
    {
     "name": "stdout",
     "output_type": "stream",
     "text": [
      "0 214.66\n",
      "0\n",
      "Updated: 0, not updated: 903\n",
      "1 233.34\n",
      "903\n",
      "Updated: 32, not updated: 876\n",
      "2 238.54\n",
      "1779\n",
      "Updated: 51, not updated: 853\n",
      "3 178.34\n",
      "2632\n",
      "Updated: 58, not updated: 829\n",
      "4 190.81\n",
      "3461\n",
      "Updated: 74, not updated: 819\n",
      "5 195.41\n",
      "4280\n",
      "Updated: 74, not updated: 816\n",
      "6 169.76\n",
      "5096\n",
      "Updated: 76, not updated: 781\n",
      "7 208.18\n",
      "5877\n",
      "Updated: 93, not updated: 783\n",
      "8 184.97\n",
      "6660\n",
      "Updated: 85, not updated: 760\n",
      "9 175.28\n",
      "7420\n",
      "Updated: 95, not updated: 779\n",
      "10 200.37\n",
      "8199\n",
      "Updated: 93, not updated: 783\n",
      "11 177.02\n",
      "8982\n",
      "Updated: 102, not updated: 757\n",
      "12 180.1\n",
      "9739\n",
      "Updated: 90, not updated: 781\n",
      "13 157.53\n",
      "10520\n",
      "Updated: 105, not updated: 754\n",
      "14 173.63\n",
      "11274\n",
      "Updated: 113, not updated: 722\n",
      "15 128.94\n",
      "11996\n",
      "Updated: 110, not updated: 716\n"
     ]
    }
   ],
   "source": [
    "policy_mapping = []\n",
    "for j in range(M):\n",
    "    state_action_maps = []\n",
    "    final_rewards = []\n",
    "    for i in range(N):\n",
    "        state_action_map = []\n",
    "        game.reset()\n",
    "        turn_count = 0\n",
    "        game_state, turn, reward, done = game.get_state()\n",
    "        while not done:\n",
    "#             if turn_count == 0:\n",
    "#                 print(game_state.game_map, game_state.halite, game_state.position)\n",
    "#                 if len(policy_mapping) > 0:\n",
    "#                     print(\"Should be equal: \", game_state == policy_mapping[0][0])\n",
    "#                     raise ValueError()\n",
    "            action = policy(game_state, turn, policy_mapping)\n",
    "            state_action_map.append((game_state, action))\n",
    "            #print(action, turtle.position)\n",
    "            turn_count += 1\n",
    "            game_state, turn, reward, done = game.step(action)\n",
    "        state_action_maps.append(state_action_map)\n",
    "        # print(reward, turtle.position)\n",
    "        final_rewards.append(reward)\n",
    "    print(j, np.mean(final_rewards))\n",
    "    elite_games = np.argsort(final_rewards)[:N//5]\n",
    "    maps_to_keep = np.array(state_action_maps)[elite_games]\n",
    "    full_map = [item for sublist in maps_to_keep for item in sublist]\n",
    "    done_policies = []\n",
    "    policy_states = [x[0] for x in policy_mapping]\n",
    "    print(len(policy_states))\n",
    "    updated, not_updated = 0, 0\n",
    "    for (state, _) in full_map:\n",
    "        if state not in done_policies:\n",
    "            done_policies.append(state)\n",
    "            subset = [a for (s, a) in full_map if s == state]\n",
    "            action_probs = []\n",
    "            action_probs_raw = []\n",
    "            for action in actions:\n",
    "                action_probs.append((subset.count(action) + 1) / (len(subset) + 5))\n",
    "                action_probs_raw.append(subset.count(action) / len(subset))\n",
    "            if state in policy_states:\n",
    "                for ix, (s, probs) in enumerate(policy_mapping):\n",
    "                    if s == state:\n",
    "                        policy_mapping[ix] = (state, alpha * np.array(action_probs_raw) \\\n",
    "                                              + (1 - alpha) * np.array(probs))\n",
    "                        updated += 1\n",
    "                        break\n",
    "            else:\n",
    "                not_updated += 1\n",
    "                policy_mapping.append((state, action_probs))\n",
    "    print(\"Updated: {}, not updated: {}\".format(updated, not_updated))\n",
    "    # print(\"1st pol\", policy_mapping[0][0].game_map, policy_mapping[0][0].halite, policy_mapping[0][0].position, policy_mapping[0][1])"
   ]
  },
  {
   "cell_type": "code",
   "execution_count": null,
   "metadata": {},
   "outputs": [],
   "source": [
    "[x for x in policy_mapping if max(x[1]) > 0.5]"
   ]
  },
  {
   "cell_type": "markdown",
   "metadata": {},
   "source": [
    "We can now simulate the game loop. We now need to \n",
    "- fix the game map (otherwise the state mappong will become too unwieldy) - DONE\n",
    "- keep track of state-action pairs (memory intensive, but maybe we can manage) - DONE\n",
    "- use state-action pairs from elite runs to update policy\n",
    "- add smoothing"
   ]
  },
  {
   "cell_type": "code",
   "execution_count": null,
   "metadata": {},
   "outputs": [],
   "source": []
  }
 ],
 "metadata": {
  "kernelspec": {
   "display_name": "Python 3",
   "language": "python",
   "name": "python3"
  },
  "language_info": {
   "codemirror_mode": {
    "name": "ipython",
    "version": 3
   },
   "file_extension": ".py",
   "mimetype": "text/x-python",
   "name": "python",
   "nbconvert_exporter": "python",
   "pygments_lexer": "ipython3",
   "version": "3.7.0"
  }
 },
 "nbformat": 4,
 "nbformat_minor": 2
}
